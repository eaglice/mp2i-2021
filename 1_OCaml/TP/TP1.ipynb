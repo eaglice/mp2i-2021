{
 "cells": [
  {
   "cell_type": "markdown",
   "id": "4ef1c104",
   "metadata": {},
   "source": [
    "# TP1 : Types, variables, fonctions"
   ]
  },
  {
   "cell_type": "markdown",
   "id": "becd8118",
   "metadata": {},
   "source": [
    "## Types\n",
    "\n",
    "Devinez le type des fonctions suivantes et vérifier avec OCaml :\n",
    "```ocaml\n",
    "let f x y = x**y\n",
    "float -> float-> float\n",
    "```\n",
    "```ocaml\n",
    "let g x y = x (y + 1)\n",
    "\n",
    "(int -> 'a) -> int -> 'a\n",
    "```\n",
    "```ocaml\n",
    "let h x y z = x (3. *. (y z)) + 1\n",
    " (float -> int) -> ('a -> float ) -> 'a -> int\n",
    "```\n",
    "Puis tester ces fonctions sur des arguments de votre choix.\n"
   ]
  },
  {
   "cell_type": "code",
   "execution_count": null,
   "id": "61739349-e91a-4f8f-a0f4-c379585a78d7",
   "metadata": {},
   "outputs": [
    {
     "ename": "error",
     "evalue": "compile_error",
     "output_type": "error",
     "traceback": [
      "File \"[60]\", line 1, characters 1-2:\n1 |  f 23 9 ;;\n     ^\nError: Unbound value f\n"
     ]
    }
   ],
   "source": []
  },
  {
   "cell_type": "markdown",
   "id": "23e9b523",
   "metadata": {},
   "source": [
    "## Tangente hyperbolique\n",
    "\n",
    "Définir en OCaml la fonction $\\tanh : x \\longmapsto \\frac{e^x - e^{-x}}{e^x + e^{-x}}$ en utilisant un seul appel à la fonction `exp : float -> float` de OCaml."
   ]
  },
  {
   "cell_type": "code",
   "execution_count": 1,
   "id": "0d43b958-835a-447d-9f52-4b88bfd9db0f",
   "metadata": {},
   "outputs": [
    {
     "data": {
      "text/plain": [
       "val tano : float -> float = <fun>\n"
      ]
     },
     "execution_count": 1,
     "metadata": {},
     "output_type": "execute_result"
    },
    {
     "data": {
      "text/plain": [
       "- : float = 0.761594155955764851\n"
      ]
     },
     "execution_count": 1,
     "metadata": {},
     "output_type": "execute_result"
    }
   ],
   "source": [
    "let tano x =\n",
    "    let a = exp x in \n",
    "    (a -. 1. /. a) /. (a +. 1. /. a);;\n",
    "    \n",
    "tano 1.0\n"
   ]
  },
  {
   "cell_type": "markdown",
   "id": "74da135f",
   "metadata": {},
   "source": [
    "## Géométrie\n",
    "\n",
    "Le type `float*float` désigne un couple de flottant, représentant un point `p` dans $\\mathbb{R}^2$. On peut récupérer les coordonnées de `p` avec `let x, y = p` . Par exemple :"
   ]
  },
  {
   "cell_type": "code",
   "execution_count": 1,
   "id": "7073f5d1",
   "metadata": {
    "execution": {
     "iopub.execute_input": "2021-09-09T19:25:52.406644Z",
     "iopub.status.busy": "2021-09-09T19:25:52.405787Z",
     "iopub.status.idle": "2021-09-09T19:25:52.409142Z",
     "shell.execute_reply": "2021-09-09T19:25:52.408391Z"
    }
   },
   "outputs": [
    {
     "data": {
      "text/plain": [
       "- : float = 2.1\n"
      ]
     },
     "execution_count": 1,
     "metadata": {},
     "output_type": "execute_result"
    }
   ],
   "source": [
    "let p = (2.1, 3.7) in (* exemple de point *)\n",
    "let x, y = p in (* récupération des coordonnées *)\n",
    "x;; (* affichage de x *)"
   ]
  },
  {
   "cell_type": "markdown",
   "id": "898ce016",
   "metadata": {},
   "source": [
    "**Exercice** Écrire une fonction `aire_boule : float -> float` telle que `aire_boule r` renvoie l'aire d'une boule (disque en dimension 3) de rayon `r`, c'est à dire $\\frac{4 \\pi r^3}{3}$. On pourra utiliser `Float.pi`."
   ]
  },
  {
   "cell_type": "code",
   "execution_count": 36,
   "id": "a711c339-0792-4f7a-b8fd-eea560b421d1",
   "metadata": {},
   "outputs": [
    {
     "data": {
      "text/plain": [
       "val aire_boule : float -> float = <fun>\n"
      ]
     },
     "execution_count": 36,
     "metadata": {},
     "output_type": "execute_result"
    },
    {
     "data": {
      "text/plain": [
       "- : float = 113.097335529232538\n"
      ]
     },
     "execution_count": 36,
     "metadata": {},
     "output_type": "execute_result"
    },
    {
     "data": {
      "text/plain": [
       "- : float = 0.\n"
      ]
     },
     "execution_count": 36,
     "metadata": {},
     "output_type": "execute_result"
    }
   ],
   "source": [
    "let aire_boule r = \n",
    "    (4. /. 3.) *. Float.pi *. (r** 3.) ;;\n",
    "aire_boule 3.;;\n",
    "aire_boule 0."
   ]
  },
  {
   "cell_type": "markdown",
   "id": "18817317",
   "metadata": {},
   "source": [
    "**Exercice** Écrire une fonction `distance : float*float -> float*float -> float` telle que `distance p1 p2` renvoie la distance euclidienne entre les points `p1` et `p2`.  \n",
    "Vérifier que la distance entre $(0, 0)$ et $(1, 1)$ est (approximativement) $\\sqrt{2}$."
   ]
  },
  {
   "cell_type": "code",
   "execution_count": 5,
   "id": "0996373f-d23c-42bd-ae27-82465cd6e716",
   "metadata": {},
   "outputs": [
    {
     "data": {
      "text/plain": [
       "val distance : float * float -> float * float -> float = <fun>\n"
      ]
     },
     "execution_count": 5,
     "metadata": {},
     "output_type": "execute_result"
    },
    {
     "data": {
      "text/plain": [
       "- : float = 1.41421356237309515\n"
      ]
     },
     "execution_count": 5,
     "metadata": {},
     "output_type": "execute_result"
    },
    {
     "data": {
      "text/plain": [
       "- : float = 1.41421356237309515\n"
      ]
     },
     "execution_count": 5,
     "metadata": {},
     "output_type": "execute_result"
    }
   ],
   "source": [
    "let distance (x1,y1) (x2,y2) =\n",
    "    let x = (x2 -.x1)**2. in\n",
    "    let y = (y2 -. y1)**2. in\n",
    "    sqrt(x +. y);;\n",
    "distance (0.,0.) (1.,1.);;\n",
    "sqrt(2.)"
   ]
  },
  {
   "cell_type": "markdown",
   "id": "6be0092c",
   "metadata": {},
   "source": [
    "**Exercice** Écrire une fonction `polaire : float*float -> float*float` qui, étant donné les coordonnées polaires $(r, \\theta)$ d'un point, renvoie ses coordonnées cartésiennes $(x, y)$. On rappelle que $x = r\\cos(\\theta)$ et $y = r\\sin(\\theta)$. On pourra utiliser `cos` et `sin` en OCaml."
   ]
  },
  {
   "cell_type": "code",
   "execution_count": 7,
   "id": "84f8c0c0-d2b9-468e-bb70-7717f05a3909",
   "metadata": {},
   "outputs": [
    {
     "data": {
      "text/plain": [
       "val polaire : float * float -> float * float = <fun>\n"
      ]
     },
     "execution_count": 7,
     "metadata": {},
     "output_type": "execute_result"
    },
    {
     "data": {
      "text/plain": [
       "- : float * float = (-2.24036808064585058, 4.46998331800278947)\n"
      ]
     },
     "execution_count": 7,
     "metadata": {},
     "output_type": "execute_result"
    }
   ],
   "source": [
    "let polaire (r,th) = \n",
    "    let x = r*.cos(th) in\n",
    "    let y = r*.sin(th) in \n",
    "    (x,y);;\n",
    "polaire(5.,90.)"
   ]
  },
  {
   "cell_type": "markdown",
   "id": "2992c0fe",
   "metadata": {},
   "source": [
    "**Exercice** Écrire une fonction `milieu : float*float -> float*float -> float*float` telle que `milieu p1 p2` renvoie le milieu du segment d'extrémités `p1` et `p2`."
   ]
  },
  {
   "cell_type": "code",
   "execution_count": 8,
   "id": "5f635d16-aaa5-43b3-b28a-81404109f341",
   "metadata": {},
   "outputs": [
    {
     "data": {
      "text/plain": [
       "val milieu : float * float -> float * float -> float * float = <fun>\n"
      ]
     },
     "execution_count": 8,
     "metadata": {},
     "output_type": "execute_result"
    },
    {
     "data": {
      "text/plain": [
       "- : float * float = (2.5, 2.5)\n"
      ]
     },
     "execution_count": 8,
     "metadata": {},
     "output_type": "execute_result"
    }
   ],
   "source": [
    "let milieu (x1,y1) (x2,y2) =\n",
    "    let x = x1 +. x2 in\n",
    "    let y = y1 +. y2 in\n",
    "    (x/.2.,y/.2.);;\n",
    "milieu (2.,2.) (3.,3.)"
   ]
  },
  {
   "cell_type": "markdown",
   "id": "b0d67dd4",
   "metadata": {},
   "source": [
    "**Exercice** Écrire une fonction `parallelogramme : float*float -> float*float -> float*float -> float*float -> bool` telle que `parallelogramme p1 p2 p3 p4` renvoie `true` si les points `p1`, `p1`, `p1`, `p1` forment un parallélogramme, c'est à dire si les côtés opposés sont (approximativement) de même longueur.  \n",
    "On fera attention à ne pas comparer 2 flottants avec `=`, mais regarder à la place si la différence est petite (< 0.001 par exemple)."
   ]
  },
  {
   "cell_type": "code",
   "execution_count": 21,
   "id": "d5d5d1f6-bccd-423b-9875-4150e88878aa",
   "metadata": {},
   "outputs": [
    {
     "data": {
      "text/plain": [
       "val paralle :\n",
       "  float * float -> float * float -> float * float -> float * float -> bool =\n",
       "  <fun>\n"
      ]
     },
     "execution_count": 21,
     "metadata": {},
     "output_type": "execute_result"
    },
    {
     "data": {
      "text/plain": [
       "- : bool = true\n"
      ]
     },
     "execution_count": 21,
     "metadata": {},
     "output_type": "execute_result"
    },
    {
     "data": {
      "text/plain": [
       "- : bool = false\n"
      ]
     },
     "execution_count": 21,
     "metadata": {},
     "output_type": "execute_result"
    }
   ],
   "source": [
    "let paralle (x1,y1) (x2,y2) (x3,y3) (x4,y4) =\n",
    "    let x = sqrt((x2 -.x1)**2. +. (y2 -. y1)**2.) in\n",
    "    let y = sqrt((x4 -.x3)**2. +. (y4 -. y3)**2.) in\n",
    "    let z = sqrt((x3 -.x2)**2. +. (y3 -. y2)**2.) in\n",
    "    let a = sqrt((x1 -.x4)**2. +. (y1 -. y4)**2.) in\n",
    "    if x -. y < 0.0001\n",
    "    then if z -.a  < 0.0001\n",
    "        then true\n",
    "        else false\n",
    "    else false ;;\n",
    "    \n",
    "paralle (0.,0.) (2.,0.) (0.,2.) (2.,2.);;\n",
    "paralle (0.,1.) (2.,0.) (0.,2.) (2.,2.);;"
   ]
  },
  {
   "cell_type": "code",
   "execution_count": 2,
   "id": "46a4e515",
   "metadata": {
    "execution": {
     "iopub.execute_input": "2021-09-09T19:25:52.411490Z",
     "iopub.status.busy": "2021-09-09T19:25:52.410851Z",
     "iopub.status.idle": "2021-09-09T19:25:52.414563Z",
     "shell.execute_reply": "2021-09-09T19:25:52.416638Z"
    }
   },
   "outputs": [
    {
     "data": {
      "text/plain": [
       "- : float -> float = <fun>\n"
      ]
     },
     "execution_count": 2,
     "metadata": {},
     "output_type": "execute_result"
    }
   ],
   "source": [
    "acos"
   ]
  },
  {
   "cell_type": "markdown",
   "id": "8a89d768",
   "metadata": {},
   "source": [
    "## Congruence\n",
    "\n",
    "Le but de cet exercice est de calculer $1357^{2013}$ mod $5$ (mais la méthode utilisée s'applique dans un grande nombre d'exercices mathématiques).  \n",
    "On rappelle que les congruences sont compatibles avec la puissance :\n",
    "$$a \\equiv b [n] \\Longrightarrow a^k \\equiv b^k [n]$$\n",
    "\n",
    "1. Soit $k$ un entier positif. Que vaut $2^{4k}$ mod $5$? On pourra calculer des valeurs avec OCaml puis le démontrer mathématiquement.\n",
    "2. Que vaut $1357$ mod $5$? En déduire la valeur de $1357^{2013}$ mod $5$."
   ]
  },
  {
   "cell_type": "code",
   "execution_count": 33,
   "id": "a297f49f-db86-484e-8591-95937cf5c41a",
   "metadata": {},
   "outputs": [
    {
     "data": {
      "text/plain": [
       "- : int = 1\n"
      ]
     },
     "execution_count": 33,
     "metadata": {},
     "output_type": "execute_result"
    }
   ],
   "source": [
    "2*2*2*2 mod 5"
   ]
  },
  {
   "cell_type": "code",
   "execution_count": null,
   "id": "2cba1551-1aad-4d77-93a7-7783e163d528",
   "metadata": {},
   "outputs": [],
   "source": []
  },
  {
   "cell_type": "code",
   "execution_count": 32,
   "id": "56ddf04f-d3e5-4a5b-81c4-0cc1a132f154",
   "metadata": {},
   "outputs": [
    {
     "data": {
      "text/plain": [
       "- : int = 1\n"
      ]
     },
     "execution_count": 32,
     "metadata": {},
     "output_type": "execute_result"
    }
   ],
   "source": [
    "2*2*2*2*2*2*2*2 mod 5"
   ]
  },
  {
   "cell_type": "markdown",
   "id": "9abf83f8-1c8e-4192-a487-7ff68c9a5fb8",
   "metadata": {},
   "source": [
    "1. 2^4 est congrue a 1^4  au modulo 5 or 2^4k = (2^4)*2^k  et est donc congrue a 1^4k sur un mod 5"
   ]
  },
  {
   "cell_type": "code",
   "execution_count": 40,
   "id": "fec22af4-af52-44d8-8cd7-ae0572941379",
   "metadata": {},
   "outputs": [
    {
     "data": {
      "text/plain": [
       "- : int = 2\n"
      ]
     },
     "execution_count": 40,
     "metadata": {},
     "output_type": "execute_result"
    }
   ],
   "source": [
    "1357 mod 5"
   ]
  },
  {
   "cell_type": "markdown",
   "id": "400becfe-0584-4e13-b66c-050b0f189652",
   "metadata": {},
   "source": [
    "2. donc 1357^2013 modulo 5 vaut 2 si l'on reprend la formule donnée"
   ]
  },
  {
   "cell_type": "markdown",
   "id": "60c42e47",
   "metadata": {},
   "source": [
    "## Nombres aléatoires\n",
    "\n",
    "`Random.int n` permet d'obtenir un entier uniformément au hasard entre 0 et `n - 1` (chacun de ces entiers a la même probabilité $\\frac{1}{n}$ d'être obtenu).  \n",
    "Dans cet exercice, on imagine que l'on possède comme seule source aléatoire un dé à 5 faces (c'est à dire que l'on a seulement le droit d'utiliser `Random.int 5`).\n",
    "\n",
    "1. Calculer `(Random.int 5) + (Random.int 5)` plusieurs fois. Est-ce que le résultat vous semble être un entier uniformément au hasard entre 0 et 8?  \n",
    "2. Quelle est la probabilité d'obtenir `0` avec `(Random.int 5) + (Random.int 5)`? D'obtenir `1`? Quelle est l'entier qui a le plus de chances d'apparaître?\n",
    "3. Comment générer uniformément un entier entre 0 et 24? (C'est à dire passer de 5 possibilités à 25)\n",
    "3. Comment générer uniformément un entier entre 0 et 6? Écrire une fonction pour le faire. On utilisera une méthode par rejection (rejection sampling) : générer dans un espace plus grand et regénérer si la valeur n'est pas dans l'intervalle souhaité.  \n",
    "Pour cela on utilisera une boucle while :\n",
    "```ocaml\n",
    "while ... do\n",
    "    ...\n",
    "done\n",
    "```"
   ]
  },
  {
   "cell_type": "code",
   "execution_count": null,
   "id": "c06e7074",
   "metadata": {},
   "outputs": [
    {
     "data": {
      "text/plain": [
       "- : int = 2\n"
      ]
     },
     "execution_count": 11,
     "metadata": {},
     "output_type": "execute_result"
    },
    {
     "data": {
      "text/plain": [
       "- : int = 5\n"
      ]
     },
     "execution_count": 11,
     "metadata": {},
     "output_type": "execute_result"
    },
    {
     "data": {
      "text/plain": [
       "- : int = 4\n"
      ]
     },
     "execution_count": 11,
     "metadata": {},
     "output_type": "execute_result"
    },
    {
     "data": {
      "text/plain": [
       "- : int = 4\n"
      ]
     },
     "execution_count": 11,
     "metadata": {},
     "output_type": "execute_result"
    },
    {
     "data": {
      "text/plain": [
       "- : int = 3\n"
      ]
     },
     "execution_count": 11,
     "metadata": {},
     "output_type": "execute_result"
    },
    {
     "data": {
      "text/plain": [
       "- : int = 7\n"
      ]
     },
     "execution_count": 11,
     "metadata": {},
     "output_type": "execute_result"
    },
    {
     "data": {
      "text/plain": [
       "- : int = 6\n"
      ]
     },
     "execution_count": 11,
     "metadata": {},
     "output_type": "execute_result"
    },
    {
     "data": {
      "text/plain": [
       "- : int = 6\n"
      ]
     },
     "execution_count": 11,
     "metadata": {},
     "output_type": "execute_result"
    },
    {
     "data": {
      "text/plain": [
       "- : int = 3\n"
      ]
     },
     "execution_count": 11,
     "metadata": {},
     "output_type": "execute_result"
    },
    {
     "data": {
      "text/plain": [
       "- : int = 4\n"
      ]
     },
     "execution_count": 11,
     "metadata": {},
     "output_type": "execute_result"
    },
    {
     "data": {
      "text/plain": [
       "- : int = 0\n"
      ]
     },
     "execution_count": 11,
     "metadata": {},
     "output_type": "execute_result"
    },
    {
     "data": {
      "text/plain": [
       "- : int = 7\n"
      ]
     },
     "execution_count": 11,
     "metadata": {},
     "output_type": "execute_result"
    },
    {
     "data": {
      "text/plain": [
       "- : int = 7\n"
      ]
     },
     "execution_count": 11,
     "metadata": {},
     "output_type": "execute_result"
    },
    {
     "data": {
      "text/plain": [
       "- : int = 4\n"
      ]
     },
     "execution_count": 11,
     "metadata": {},
     "output_type": "execute_result"
    },
    {
     "data": {
      "text/plain": [
       "- : int = 6\n"
      ]
     },
     "execution_count": 11,
     "metadata": {},
     "output_type": "execute_result"
    },
    {
     "data": {
      "text/plain": [
       "- : int = 4\n"
      ]
     },
     "execution_count": 11,
     "metadata": {},
     "output_type": "execute_result"
    },
    {
     "data": {
      "text/plain": [
       "- : int = 7\n"
      ]
     },
     "execution_count": 11,
     "metadata": {},
     "output_type": "execute_result"
    },
    {
     "data": {
      "text/plain": [
       "- : int = 2\n"
      ]
     },
     "execution_count": 11,
     "metadata": {},
     "output_type": "execute_result"
    },
    {
     "data": {
      "text/plain": [
       "- : int = 6\n"
      ]
     },
     "execution_count": 11,
     "metadata": {},
     "output_type": "execute_result"
    },
    {
     "data": {
      "text/plain": [
       "- : int = 3\n"
      ]
     },
     "execution_count": 11,
     "metadata": {},
     "output_type": "execute_result"
    },
    {
     "data": {
      "text/plain": [
       "- : int = 3\n"
      ]
     },
     "execution_count": 11,
     "metadata": {},
     "output_type": "execute_result"
    },
    {
     "data": {
      "text/plain": [
       "- : int = 6\n"
      ]
     },
     "execution_count": 11,
     "metadata": {},
     "output_type": "execute_result"
    },
    {
     "data": {
      "text/plain": [
       "- : int = 4\n"
      ]
     },
     "execution_count": 11,
     "metadata": {},
     "output_type": "execute_result"
    },
    {
     "data": {
      "text/plain": [
       "- : int = 4\n"
      ]
     },
     "execution_count": 11,
     "metadata": {},
     "output_type": "execute_result"
    }
   ],
   "source": [
    "(Random.int 5) + (Random.int 5);;\n",
    "(Random.int 5) + (Random.int 5);;\n",
    "(Random.int 5) + (Random.int 5);;\n",
    "(Random.int 5) + (Random.int 5);;\n",
    "(Random.int 5) + (Random.int 5);;\n",
    "(Random.int 5) + (Random.int 5);;\n",
    "(Random.int 5) + (Random.int 5);;\n",
    "(Random.int 5) + (Random.int 5);;\n",
    "(Random.int 5) + (Random.int 5);;\n",
    "(Random.int 5) + (Random.int 5);;\n",
    "(Random.int 5) + (Random.int 5);;\n",
    "(Random.int 5) + (Random.int 5);;\n",
    "(Random.int 5) + (Random.int 5);;\n",
    "(Random.int 5) + (Random.int 5);;\n",
    "(Random.int 5) + (Random.int 5);;\n",
    "(Random.int 5) + (Random.int 5);;\n",
    "(Random.int 5) + (Random.int 5);;\n",
    "(Random.int 5) + (Random.int 5);;\n",
    "(Random.int 5) + (Random.int 5);;\n",
    "(Random.int 5) + (Random.int 5);;\n",
    "(Random.int 5) + (Random.int 5);;\n",
    "(Random.int 5) + (Random.int 5);;\n",
    "(Random.int 5) + (Random.int 5);;\n",
    "(Random.int 5) + (Random.int 5);;\n"
   ]
  },
  {
   "cell_type": "markdown",
   "id": "925e0d47-8d8c-4635-acb1-ee229b7ef255",
   "metadata": {},
   "source": [
    "1.le résultat semble étre un entier uniforme entre 0 et 8 mais une tendance a tendre vers 4 est très présente"
   ]
  },
  {
   "cell_type": "markdown",
   "id": "502613d7-74c7-44a3-90b6-183d1855ed69",
   "metadata": {},
   "source": [
    "2.P(0) = (1/5)*(1/5)\n",
    "    = 1/25\n",
    "P(1) = P(1 et 0) + P(0 et 1)\n",
    "    = (1/5)*(1/5)* 2\n",
    "    =2/25\n",
    "l'entier le plus facilement obtenable est 4, on peut l'obtenir par 5 combinaisons "
   ]
  },
  {
   "cell_type": "code",
   "execution_count": 12,
   "id": "a4cc04ce-3620-4f04-b260-22c3ece63203",
   "metadata": {},
   "outputs": [
    {
     "name": "stdout",
     "output_type": "stream",
     "text": [
      "23\n",
      "16\n",
      "0\n",
      "14\n",
      "5\n",
      "12\n",
      "2\n",
      "18\n",
      "20\n",
      "4\n",
      "19\n",
      "5\n",
      "19\n",
      "18\n",
      "9\n",
      "24\n",
      "6\n",
      "13\n",
      "10\n",
      "19\n",
      "2\n",
      "0\n",
      "6\n",
      "23\n",
      "7\n",
      "15\n",
      "16\n",
      "8\n",
      "4\n",
      "12\n",
      "9\n",
      "18\n",
      "23\n",
      "15\n",
      "8\n",
      "16\n",
      "19\n",
      "10\n",
      "6\n",
      "19\n",
      "6\n",
      "11\n",
      "20\n",
      "1\n",
      "19\n",
      "17\n",
      "6\n",
      "9\n",
      "21\n",
      "11\n",
      "8\n",
      "\n"
     ]
    },
    {
     "data": {
      "text/plain": [
       "- : unit = ()\n"
      ]
     },
     "execution_count": 12,
     "metadata": {},
     "output_type": "execute_result"
    }
   ],
   "source": [
    "for i=0 to 50 do\n",
    "    print_int (((Random.int 5)*5)+(Random.int 5));\n",
    "    print_newline()\n",
    "done;\n",
    "print_newline()"
   ]
  },
  {
   "cell_type": "markdown",
   "id": "1d919c68-ab66-4c77-b944-164f9198074c",
   "metadata": {},
   "source": [
    "3. On aurait aussi pu résoudre ce problème avec une double liste contenant 5 bloc de 5 chiffres de 0 à 24 et deux random.int 5 le premier nous indiquant l'indice du bloc et le deuxième l'indice du chiffre contenu dans le bloc"
   ]
  },
  {
   "cell_type": "code",
   "execution_count": 59,
   "id": "d8ae9730-d847-4e5c-ae2d-815566edc91d",
   "metadata": {},
   "outputs": [
    {
     "data": {
      "text/plain": [
       "val reject : int ref = {contents = 4}\n"
      ]
     },
     "execution_count": 59,
     "metadata": {},
     "output_type": "execute_result"
    },
    {
     "data": {
      "text/plain": [
       "- : int ref = {contents = 4}\n"
      ]
     },
     "execution_count": 59,
     "metadata": {},
     "output_type": "execute_result"
    }
   ],
   "source": [
    "let reject  =\n",
    "    let y =  ref 25  in\n",
    "    while !y > 6 \n",
    "    do y := (((Random.int 5)*5)+(Random.int 5))\n",
    "    done;\n",
    "    y;;\n",
    "    \n",
    "reject ;;"
   ]
  },
  {
   "cell_type": "markdown",
   "id": "6e00eba1-c4e9-4bc9-8c1a-b6fd2b60c2e4",
   "metadata": {},
   "source": [
    "4. Il faut relancer manuellement la fonction reject, elle nous donne bien un nombre aléatoire entre 0 et 6"
   ]
  },
  {
   "cell_type": "markdown",
   "id": "2e2d0e4f-5f4a-4e5e-bdde-b5cdb95bd9d1",
   "metadata": {},
   "source": []
  },
  {
   "cell_type": "code",
   "execution_count": null,
   "id": "70efb91e-829e-4a3b-a52f-d84ee9732a59",
   "metadata": {},
   "outputs": [],
   "source": []
  }
 ],
 "metadata": {
  "kernelspec": {
   "display_name": "OCaml default",
   "language": "OCaml",
   "name": "ocaml-jupyter"
  },
  "language_info": {
   "codemirror_mode": "text/x-ocaml",
   "file_extension": ".ml",
   "mimetype": "text/x-ocaml",
   "name": "OCaml",
   "nbconverter_exporter": null,
   "pygments_lexer": "OCaml",
   "version": "4.08.1"
  }
 },
 "nbformat": 4,
 "nbformat_minor": 5
}

